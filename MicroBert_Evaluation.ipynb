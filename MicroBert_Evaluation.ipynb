{
 "cells": [
  {
   "cell_type": "markdown",
   "metadata": {},
   "source": [
    "# Import Required Libraries"
   ]
  },
  {
   "cell_type": "code",
   "execution_count": 12,
   "metadata": {},
   "outputs": [],
   "source": [
    "import torch\n",
    "from transformers import (\n",
    "    BertTokenizer, BertConfig, BertForMaskedLM, Trainer, TrainingArguments, \n",
    "    DataCollatorForLanguageModeling, PreTrainedTokenizerFast, BertForQuestionAnswering, \n",
    "    BertForTokenClassification, BertTokenizerFast, DataCollatorForTokenClassification\n",
    ")\n",
    "from datasets import load_dataset\n",
    "from sklearn.metrics import f1_score\n",
    "from seqeval.metrics import classification_report, f1_score, precision_score, recall_score\n",
    "import numpy as np\n",
    "import math\n",
    "import matplotlib.pyplot as plt"
   ]
  },
  {
   "cell_type": "markdown",
   "metadata": {},
   "source": [
    "# Define Tokenizer Types and Models"
   ]
  },
  {
   "cell_type": "code",
   "execution_count": 3,
   "metadata": {},
   "outputs": [],
   "source": [
    "tokenizer_types = [\"Unigram\", \"BPE\", \"Wordpiece\"]\n",
    "tasks = [\"TextGeneration\", \"QnsAns\", \"NER\"]"
   ]
  },
  {
   "cell_type": "markdown",
   "metadata": {},
   "source": [
    "# Evaluate Text Generation Model"
   ]
  },
  {
   "cell_type": "code",
   "execution_count": 8,
   "metadata": {},
   "outputs": [],
   "source": [
    "def evaluate_text_generation(tokenizer_type):\n",
    "    tokenizer_file = f\"tokenizers/{tokenizer_type.lower()}-tokenizer.json\"\n",
    "    tokenizer = PreTrainedTokenizerFast(tokenizer_file=tokenizer_file)\n",
    "    tokenizer.add_special_tokens({'pad_token': '[PAD]', 'mask_token': '[MASK]', 'unk_token': '[UNK]'})\n",
    "    model = BertForMaskedLM.from_pretrained(f\"{tokenizer_type}_BERT_TextGeneration\")\n",
    "    device = torch.device(\"cuda\" if torch.cuda.is_available() else \"cpu\")\n",
    "    model.to(device)\n",
    "    dataset = load_dataset('euclaise/writingprompts')\n",
    "    def tokenize_function(examples):\n",
    "        return tokenizer(examples['story'], padding='max_length', truncation=True, max_length=128)\n",
    "    tokenized_datasets = dataset.map(tokenize_function, batched=True)\n",
    "    def calculate_perplexity(text):\n",
    "        inputs = tokenizer(text, return_tensors='pt', padding='max_length', truncation=True, max_length=128)\n",
    "        inputs = {key: value.to(device) for key, value in inputs.items()}\n",
    "        with torch.no_grad():\n",
    "            outputs = model(**inputs, labels=inputs['input_ids'])\n",
    "        loss = outputs.loss\n",
    "        perplexity = math.exp(loss.item())\n",
    "        return perplexity\n",
    "    perplexities = []\n",
    "    for example in tokenized_datasets['test']:\n",
    "        text = example['story']\n",
    "        perplexity = calculate_perplexity(text)\n",
    "        perplexities.append(perplexity)\n",
    "    average_perplexity = sum(perplexities) / len(perplexities)\n",
    "    return average_perplexity"
   ]
  },
  {
   "cell_type": "markdown",
   "metadata": {},
   "source": [
    "# Evaluate Question Answering Model"
   ]
  },
  {
   "cell_type": "code",
   "execution_count": 9,
   "metadata": {},
   "outputs": [],
   "source": [
    "def evaluate_question_answering(tokenizer_type):\n",
    "    tokenizer_file = f\"tokenizers/{tokenizer_type.lower()}-tokenizer.json\"\n",
    "    tokenizer = PreTrainedTokenizerFast(tokenizer_file=tokenizer_file)\n",
    "    tokenizer.add_special_tokens({'pad_token': '[PAD]', 'mask_token': '[MASK]', 'unk_token': '[UNK]'})\n",
    "    model = BertForQuestionAnswering.from_pretrained(f\"{tokenizer_type}_BERT_QnsAns\")\n",
    "    device = torch.device(\"cuda\" if torch.cuda.is_available() else \"cpu\")\n",
    "    model.to(device)\n",
    "    dataset = load_dataset('squad')\n",
    "    def tokenize_function(examples):\n",
    "        return tokenizer(examples['question'], examples['context'], truncation=True, padding='max_length', max_length=128)\n",
    "    tokenized_datasets = dataset.map(tokenize_function, batched=True)\n",
    "    def make_predictions(examples):\n",
    "        inputs = tokenizer(examples['question'], examples['context'], return_tensors='pt', truncation=True, padding='max_length', max_length=128)\n",
    "        inputs = {key: value.to(model.device) for key, value in inputs.items()}\n",
    "        with torch.no_grad():\n",
    "            outputs = model(**inputs)\n",
    "        start_logits = outputs.start_logits\n",
    "        end_logits = outputs.end_logits\n",
    "        start_index = torch.argmax(start_logits, dim=1).item()\n",
    "        end_index = torch.argmax(end_logits, dim=1).item()\n",
    "        return tokenizer.decode(inputs['input_ids'][0][start_index:end_index+1])\n",
    "    predictions = []\n",
    "    references = []\n",
    "    for example in tokenized_datasets['validation']:\n",
    "        prediction = make_predictions(example)\n",
    "        predictions.append(prediction)\n",
    "        references.append(example['answers']['text'][0])\n",
    "    def compute_exact_match(predictions, references):\n",
    "        return sum([1 if pred == ref else 0 for pred, ref in zip(predictions, references)]) / len(references)\n",
    "    def compute_f1(predictions, references):\n",
    "        f1_scores = []\n",
    "        for pred, ref in zip(predictions, references):\n",
    "            pred_tokens = pred.split()\n",
    "            ref_tokens = ref.split()\n",
    "            common_tokens = set(pred_tokens) & set(ref_tokens)\n",
    "            if len(common_tokens) == 0:\n",
    "                f1_scores.append(0)\n",
    "            else:\n",
    "                precision = len(common_tokens) / len(pred_tokens)\n",
    "                recall = len(common_tokens) / len(ref_tokens)\n",
    "                f1_scores.append(2 * (precision * recall) / (precision + recall))\n",
    "        return sum(f1_scores) / len(f1_scores)\n",
    "    exact_match = compute_exact_match(predictions, references)\n",
    "    f1 = compute_f1(predictions, references)\n",
    "    return exact_match, f1"
   ]
  },
  {
   "cell_type": "markdown",
   "metadata": {},
   "source": [
    "# Evaluate Named Entity Recognition Model"
   ]
  },
  {
   "cell_type": "code",
   "execution_count": 14,
   "metadata": {},
   "outputs": [],
   "source": [
    "def evaluate_ner(tokenizer_type):\n",
    "    tokenizer_file = f\"tokenizers/{tokenizer_type.lower()}-tokenizer.json\"\n",
    "    tokenizer = PreTrainedTokenizerFast(tokenizer_file=tokenizer_file)\n",
    "    tokenizer.add_special_tokens({'pad_token': '[PAD]', 'mask_token': '[MASK]', 'unk_token': '[UNK]'})\n",
    "    model = BertForTokenClassification.from_pretrained(f\"{tokenizer_type}_BERT_NER\")\n",
    "    device = torch.device(\"cuda\" if torch.cuda.is_available() else \"cpu\")\n",
    "    model.to(device)\n",
    "    dataset = load_dataset(\"conll2003\")\n",
    "    def tokenize_and_align_labels(examples):\n",
    "        tokenized_inputs = tokenizer(examples['tokens'], truncation=True, padding='max_length', max_length=128, is_split_into_words=True)\n",
    "        labels = []\n",
    "        for i, label in enumerate(examples['ner_tags']):\n",
    "            word_ids = tokenized_inputs.word_ids(batch_index=i)\n",
    "            label_ids = []\n",
    "            previous_word_idx = None\n",
    "            for word_idx in word_ids:\n",
    "                if word_idx is None:\n",
    "                    label_ids.append(-100)\n",
    "                elif word_idx != previous_word_idx:\n",
    "                    label_ids.append(label[word_idx])\n",
    "                else:\n",
    "                    label_ids.append(-100)\n",
    "                previous_word_idx = word_idx\n",
    "            labels.append(label_ids)\n",
    "        tokenized_inputs[\"labels\"] = labels\n",
    "        return tokenized_inputs\n",
    "    tokenized_datasets = dataset.map(tokenize_and_align_labels, batched=True)\n",
    "    def compute_metrics(p):\n",
    "        predictions, labels = p\n",
    "        predictions = np.argmax(predictions, axis=2)\n",
    "        true_labels = [[label for label in label if label != -100] for label in labels]\n",
    "        true_predictions = [\n",
    "            [pred for pred, label in zip(prediction, label) if label != -100]\n",
    "            for prediction, label in zip(predictions, labels)\n",
    "        ]\n",
    "        label_list = dataset['train'].features['ner_tags'].feature.names\n",
    "        true_labels = [[label_list[l] for l in label] for label in true_labels]\n",
    "        true_predictions = [[label_list[p] for p in prediction] for prediction in true_predictions]\n",
    "        precision = precision_score(true_labels, true_predictions)\n",
    "        recall = recall_score(true_labels, true_predictions)\n",
    "        f1 = f1_score(true_labels, true_predictions)\n",
    "        return {\n",
    "            \"precision\": precision,\n",
    "            \"recall\": recall,\n",
    "            \"f1\": f1,\n",
    "        }\n",
    "    training_args = TrainingArguments(\n",
    "        output_dir='./results',\n",
    "        evaluation_strategy='epoch',\n",
    "        learning_rate=1e-4,\n",
    "        per_device_train_batch_size=8,\n",
    "        per_device_eval_batch_size=8,\n",
    "        num_train_epochs=3,\n",
    "        weight_decay=0.01,\n",
    "        fp16=True,\n",
    "        save_strategy='no',\n",
    "        logging_strategy='epoch'\n",
    "    )\n",
    "    trainer = Trainer(\n",
    "        model=model,\n",
    "        args=training_args,\n",
    "        eval_dataset=tokenized_datasets['test'],\n",
    "        compute_metrics=compute_metrics\n",
    "    )\n",
    "    results = trainer.evaluate()\n",
    "    return results['eval_precision'], results['eval_recall'], results['eval_f1']"
   ]
  },
  {
   "cell_type": "markdown",
   "metadata": {},
   "source": [
    "# Compare Tokenizer Types for Each Task"
   ]
  },
  {
   "cell_type": "code",
   "execution_count": 15,
   "metadata": {},
   "outputs": [
    {
     "name": "stdout",
     "output_type": "stream",
     "text": [
      "\n",
      "Evaluating Unigram Tokenizer\n",
      "Text Generation:\n"
     ]
    },
    {
     "name": "stderr",
     "output_type": "stream",
     "text": [
      "Map: 100%|██████████| 15620/15620 [00:07<00:00, 2021.92 examples/s]\n"
     ]
    },
    {
     "name": "stdout",
     "output_type": "stream",
     "text": [
      "Average Perplexity: 3.3705515735536604\n",
      "\n",
      "Question Answering:\n",
      "Exact Match: 0.013623462630085147\n",
      "F1-Score: 0.014543181511015002\n",
      "\n",
      "Named Entity Recognition:\n"
     ]
    },
    {
     "name": "stderr",
     "output_type": "stream",
     "text": [
      "Map: 100%|██████████| 3453/3453 [00:00<00:00, 4910.13 examples/s]\n",
      "/home/elicer/.local/lib/python3.10/site-packages/transformers/training_args.py:1568: FutureWarning: `evaluation_strategy` is deprecated and will be removed in version 4.46 of 🤗 Transformers. Use `eval_strategy` instead\n",
      "  warnings.warn(\n"
     ]
    },
    {
     "data": {
      "text/html": [
       "\n",
       "    <div>\n",
       "      \n",
       "      <progress value='432' max='432' style='width:300px; height:20px; vertical-align: middle;'></progress>\n",
       "      [432/432 00:02]\n",
       "    </div>\n",
       "    "
      ],
      "text/plain": [
       "<IPython.core.display.HTML object>"
      ]
     },
     "metadata": {},
     "output_type": "display_data"
    },
    {
     "name": "stdout",
     "output_type": "stream",
     "text": [
      "Precision: 0.3924088022448678\n",
      "Recall: 0.47201989696216023\n",
      "F1-Score: 0.42854838709677423\n",
      "\n",
      "Evaluating BPE Tokenizer\n",
      "Text Generation:\n"
     ]
    },
    {
     "name": "stderr",
     "output_type": "stream",
     "text": [
      "Map: 100%|██████████| 272600/272600 [01:51<00:00, 2440.22 examples/s]\n",
      "Map: 100%|██████████| 15138/15138 [00:06<00:00, 2395.08 examples/s]\n",
      "Map: 100%|██████████| 15620/15620 [00:06<00:00, 2469.28 examples/s]\n"
     ]
    },
    {
     "name": "stdout",
     "output_type": "stream",
     "text": [
      "Average Perplexity: 2.2394253348206776\n",
      "\n",
      "Question Answering:\n"
     ]
    },
    {
     "name": "stderr",
     "output_type": "stream",
     "text": [
      "Map: 100%|██████████| 87599/87599 [00:13<00:00, 6373.56 examples/s]\n",
      "Map: 100%|██████████| 10570/10570 [00:01<00:00, 6550.94 examples/s]\n"
     ]
    },
    {
     "name": "stdout",
     "output_type": "stream",
     "text": [
      "Exact Match: 0.018543046357615896\n",
      "F1-Score: 0.020924275976310032\n",
      "\n",
      "Named Entity Recognition:\n"
     ]
    },
    {
     "name": "stderr",
     "output_type": "stream",
     "text": [
      "Map: 100%|██████████| 14041/14041 [00:01<00:00, 7140.85 examples/s]\n",
      "Map: 100%|██████████| 3250/3250 [00:00<00:00, 5185.94 examples/s]\n",
      "Map: 100%|██████████| 3453/3453 [00:00<00:00, 7451.39 examples/s]\n",
      "/home/elicer/.local/lib/python3.10/site-packages/transformers/training_args.py:1568: FutureWarning: `evaluation_strategy` is deprecated and will be removed in version 4.46 of 🤗 Transformers. Use `eval_strategy` instead\n",
      "  warnings.warn(\n"
     ]
    },
    {
     "data": {
      "text/html": [
       "\n",
       "    <div>\n",
       "      \n",
       "      <progress value='432' max='432' style='width:300px; height:20px; vertical-align: middle;'></progress>\n",
       "      [432/432 00:02]\n",
       "    </div>\n",
       "    "
      ],
      "text/plain": [
       "<IPython.core.display.HTML object>"
      ]
     },
     "metadata": {},
     "output_type": "display_data"
    },
    {
     "name": "stdout",
     "output_type": "stream",
     "text": [
      "Precision: 0.34981040086673887\n",
      "Recall: 0.45789753589789045\n",
      "F1-Score: 0.39662188099808054\n",
      "\n",
      "Evaluating Wordpiece Tokenizer\n",
      "Text Generation:\n"
     ]
    },
    {
     "name": "stderr",
     "output_type": "stream",
     "text": [
      "Map: 100%|██████████| 272600/272600 [04:03<00:00, 1117.44 examples/s]\n",
      "Map: 100%|██████████| 15138/15138 [00:13<00:00, 1119.04 examples/s]\n",
      "Map: 100%|██████████| 15620/15620 [00:13<00:00, 1126.76 examples/s]\n"
     ]
    },
    {
     "name": "stdout",
     "output_type": "stream",
     "text": [
      "Average Perplexity: 149.46750314439237\n",
      "\n",
      "Question Answering:\n"
     ]
    },
    {
     "name": "stderr",
     "output_type": "stream",
     "text": [
      "Map: 100%|██████████| 87599/87599 [00:37<00:00, 2338.86 examples/s]\n",
      "Map: 100%|██████████| 10570/10570 [00:04<00:00, 2261.81 examples/s]\n"
     ]
    },
    {
     "name": "stdout",
     "output_type": "stream",
     "text": [
      "Exact Match: 0.0\n",
      "F1-Score: 0.0\n",
      "\n",
      "Named Entity Recognition:\n"
     ]
    },
    {
     "name": "stderr",
     "output_type": "stream",
     "text": [
      "Map: 100%|██████████| 14041/14041 [00:02<00:00, 6098.85 examples/s]\n",
      "Map: 100%|██████████| 3250/3250 [00:00<00:00, 6313.76 examples/s]\n",
      "Map: 100%|██████████| 3453/3453 [00:00<00:00, 6745.82 examples/s]\n",
      "/home/elicer/.local/lib/python3.10/site-packages/transformers/training_args.py:1568: FutureWarning: `evaluation_strategy` is deprecated and will be removed in version 4.46 of 🤗 Transformers. Use `eval_strategy` instead\n",
      "  warnings.warn(\n"
     ]
    },
    {
     "data": {
      "text/html": [
       "\n",
       "    <div>\n",
       "      \n",
       "      <progress value='432' max='432' style='width:300px; height:20px; vertical-align: middle;'></progress>\n",
       "      [432/432 00:02]\n",
       "    </div>\n",
       "    "
      ],
      "text/plain": [
       "<IPython.core.display.HTML object>"
      ]
     },
     "metadata": {},
     "output_type": "display_data"
    },
    {
     "name": "stdout",
     "output_type": "stream",
     "text": [
      "Precision: 0.31240012783636945\n",
      "Recall: 0.37033529077476796\n",
      "F1-Score: 0.338909595215394\n"
     ]
    }
   ],
   "source": [
    "results = {\"TextGeneration\": {}, \"QnsAns\": {}, \"NER\": {}}\n",
    "\n",
    "for tokenizer_type in tokenizer_types:\n",
    "    print(f\"\\nEvaluating {tokenizer_type} Tokenizer\")\n",
    "    print(\"Text Generation:\")\n",
    "    avg_perplexity = evaluate_text_generation(tokenizer_type)\n",
    "    results[\"TextGeneration\"][tokenizer_type] = avg_perplexity\n",
    "    print(f\"Average Perplexity: {avg_perplexity}\")\n",
    "    print(\"\\nQuestion Answering:\")\n",
    "    exact_match, f1 = evaluate_question_answering(tokenizer_type)\n",
    "    results[\"QnsAns\"][tokenizer_type] = {\"Exact Match\": exact_match, \"F1\": f1}\n",
    "    print(f\"Exact Match: {exact_match}\")\n",
    "    print(f\"F1-Score: {f1}\")\n",
    "    print(\"\\nNamed Entity Recognition:\")\n",
    "    precision, recall, f1 = evaluate_ner(tokenizer_type)\n",
    "    results[\"NER\"][tokenizer_type] = {\"Precision\": precision, \"Recall\": recall, \"F1\": f1}\n",
    "    print(f\"Precision: {precision}\")\n",
    "    print(f\"Recall: {recall}\")\n",
    "    print(f\"F1-Score: {f1}\")"
   ]
  },
  {
   "cell_type": "markdown",
   "metadata": {},
   "source": [
    "# Visualize Results"
   ]
  },
  {
   "cell_type": "code",
   "execution_count": 19,
   "metadata": {},
   "outputs": [
    {
     "data": {
      "image/png": "[encoded data removed]",
      "text/plain": [
       "<Figure size 1200x600 with 1 Axes>"
      ]
     },
     "metadata": {},
     "output_type": "display_data"
    },
    {
     "data": {
      "image/png": "[encoded data removed]",
      "text/plain": [
       "<Figure size 1200x600 with 1 Axes>"
      ]
     },
     "metadata": {},
     "output_type": "display_data"
    },
    {
     "data": {
      "image/png": "[encoded data removed]",
      "text/plain": [
       "<Figure size 1200x600 with 1 Axes>"
      ]
     },
     "metadata": {},
     "output_type": "display_data"
    }
   ],
   "source": [
    "def plot_grouped_bar_chart(results, task, metrics):\n",
    "    tokenizer_types = list(results[task].keys())\n",
    "    n_metrics = len(metrics)\n",
    "    bar_width = 0.2\n",
    "    index = np.arange(len(tokenizer_types))\n",
    "\n",
    "    fig, ax = plt.subplots(figsize=(12, 6))\n",
    "\n",
    "    for i, metric in enumerate(metrics):\n",
    "        values = [results[task][tokenizer_type][metric] if isinstance(results[task][tokenizer_type], dict) else results[task][tokenizer_type] for tokenizer_type in tokenizer_types]\n",
    "        ax.bar(index + i * bar_width, values, bar_width, label=metric)\n",
    "\n",
    "    ax.set_xlabel('Tokenizer Type')\n",
    "    ax.set_ylabel('Scores')\n",
    "    ax.set_title(f'{task} Metrics')\n",
    "    ax.set_xticks(index + bar_width * (n_metrics - 1) / 2)\n",
    "    ax.set_xticklabels(tokenizer_types)\n",
    "    ax.legend()\n",
    "\n",
    "    plt.show()\n",
    "\n",
    "# Plot results for each task\n",
    "plot_grouped_bar_chart(results, \"TextGeneration\", [\"Average Perplexity\"])\n",
    "plot_grouped_bar_chart(results, \"QnsAns\", [\"Exact Match\", \"F1\"])\n",
    "plot_grouped_bar_chart(results, \"NER\", [\"Precision\", \"Recall\", \"F1\"])"
   ]
  },
  {
   "cell_type": "code",
   "execution_count": null,
   "metadata": {},
   "outputs": [],
   "source": []
  }
 ],
 "metadata": {
  "kernelspec": {
   "display_name": "Python 3 (ipykernel)",
   "language": "python",
   "name": "python3"
  },
  "language_info": {
   "codemirror_mode": {
    "name": "ipython",
    "version": 3
   },
   "file_extension": ".py",
   "mimetype": "text/x-python",
   "name": "python",
   "nbconvert_exporter": "python",
   "pygments_lexer": "ipython3",
   "version": "3.10.13"
  }
 },
 "nbformat": 4,
 "nbformat_minor": 4
}
